{
  "nbformat": 4,
  "nbformat_minor": 0,
  "metadata": {
    "colab": {
      "provenance": [],
      "authorship_tag": "ABX9TyMgQiZrUhrgloswmNJ8Vmcp",
      "include_colab_link": true
    },
    "kernelspec": {
      "name": "python3",
      "display_name": "Python 3"
    },
    "language_info": {
      "name": "python"
    }
  },
  "cells": [
    {
      "cell_type": "markdown",
      "metadata": {
        "id": "view-in-github",
        "colab_type": "text"
      },
      "source": [
        "<a href=\"https://colab.research.google.com/github/Evgeniia1996/repository_one/blob/main/%D0%94%D0%97_19.ipynb\" target=\"_parent\"><img src=\"https://colab.research.google.com/assets/colab-badge.svg\" alt=\"Open In Colab\"/></a>"
      ]
    },
    {
      "cell_type": "code",
      "execution_count": 1,
      "metadata": {
        "id": "5CHcnIpgXStw"
      },
      "outputs": [],
      "source": [
        "import pandas as pd"
      ]
    },
    {
      "cell_type": "code",
      "source": [
        "df = pd.read_csv('real-data.csv')"
      ],
      "metadata": {
        "id": "fh4szfu9Xpdj"
      },
      "execution_count": 4,
      "outputs": []
    },
    {
      "cell_type": "code",
      "source": [
        "df.info()"
      ],
      "metadata": {
        "id": "EfZyIho6ZS2Z"
      },
      "execution_count": null,
      "outputs": []
    },
    {
      "cell_type": "code",
      "source": [
        "df.describe()"
      ],
      "metadata": {
        "id": "Jp8nT6AxaxpH"
      },
      "execution_count": null,
      "outputs": []
    },
    {
      "cell_type": "code",
      "source": [
        "x=df.duplicated()"
      ],
      "metadata": {
        "id": "TMqLd4KTfdSA"
      },
      "execution_count": null,
      "outputs": []
    },
    {
      "cell_type": "code",
      "source": [
        "x.describe()"
      ],
      "metadata": {
        "id": "yXrGXvFNfrZ4"
      },
      "execution_count": null,
      "outputs": []
    },
    {
      "cell_type": "markdown",
      "source": [
        "дубликатов нет"
      ],
      "metadata": {
        "id": "RnZTH74pgM6H"
      }
    },
    {
      "cell_type": "code",
      "source": [
        "df1 = df.loc[:30]\n",
        "df1"
      ],
      "metadata": {
        "id": "sEJ0iOp3gmkv"
      },
      "execution_count": null,
      "outputs": []
    },
    {
      "cell_type": "code",
      "source": [
        "df2 = df.loc[31:60]\n",
        "df2"
      ],
      "metadata": {
        "id": "8c3yiwtUg4ZC"
      },
      "execution_count": null,
      "outputs": []
    },
    {
      "cell_type": "code",
      "source": [
        "result1 = pd.merge(df1, df2, on='female_life_expectancy', how='inner')\n",
        "result1"
      ],
      "metadata": {
        "id": "sJC28lQ6hJee"
      },
      "execution_count": null,
      "outputs": []
    },
    {
      "cell_type": "code",
      "source": [
        "result2 = pd.merge(df1, df2, on='male_labor_force', how='left')\n",
        "result2"
      ],
      "metadata": {
        "id": "gXslldxJhjrO"
      },
      "execution_count": null,
      "outputs": []
    },
    {
      "cell_type": "code",
      "source": [
        "from sklearn.preprocessing import normalize"
      ],
      "metadata": {
        "id": "Dgm__to_h_89"
      },
      "execution_count": 22,
      "outputs": []
    },
    {
      "cell_type": "code",
      "source": [
        "df3 = df['female_life_expectancy'].loc[:45]\n",
        "df3"
      ],
      "metadata": {
        "id": "P8QVJ-tBiOFt"
      },
      "execution_count": null,
      "outputs": []
    },
    {
      "cell_type": "code",
      "source": [
        "normalize(df3, norm='max', axis=1)"
      ],
      "metadata": {
        "id": "ChU05SHXlNOa"
      },
      "execution_count": null,
      "outputs": []
    },
    {
      "cell_type": "markdown",
      "source": [
        "не смогла провести нормализацию, почему не получается - не понимаю"
      ],
      "metadata": {
        "id": "Tk-2NTfLliSS"
      }
    },
    {
      "cell_type": "code",
      "source": [],
      "metadata": {
        "id": "gkIFOXyrlmDo"
      },
      "execution_count": null,
      "outputs": []
    }
  ]
}
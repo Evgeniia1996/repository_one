{
  "nbformat": 4,
  "nbformat_minor": 0,
  "metadata": {
    "colab": {
      "provenance": [],
      "authorship_tag": "ABX9TyMeR/Oc1uguyp90oLJUKgky",
      "include_colab_link": true
    },
    "kernelspec": {
      "name": "python3",
      "display_name": "Python 3"
    },
    "language_info": {
      "name": "python"
    }
  },
  "cells": [
    {
      "cell_type": "markdown",
      "metadata": {
        "id": "view-in-github",
        "colab_type": "text"
      },
      "source": [
        "<a href=\"https://colab.research.google.com/github/Evgeniia1996/repository_one/blob/main/Untitled0.ipynb\" target=\"_parent\"><img src=\"https://colab.research.google.com/assets/colab-badge.svg\" alt=\"Open In Colab\"/></a>"
      ]
    },
    {
      "cell_type": "code",
      "execution_count": 2,
      "metadata": {
        "id": "-0icMuv0w_R7"
      },
      "outputs": [],
      "source": [
        "import pandas as pd\n",
        "df = pd.DataFrame({'x':[1,3,2], 'y':[2,4,1]})"
      ]
    },
    {
      "cell_type": "code",
      "source": [
        "df.drop(1, axis=0, inplace=True)"
      ],
      "metadata": {
        "id": "eWipgPSO1ki2"
      },
      "execution_count": null,
      "outputs": []
    },
    {
      "cell_type": "code",
      "source": [
        "1+1"
      ],
      "metadata": {
        "id": "PM9zUcOEnbzm"
      },
      "execution_count": null,
      "outputs": []
    },
    {
      "cell_type": "code",
      "source": [
        "del df['x']"
      ],
      "metadata": {
        "id": "5LA9z8A73xny"
      },
      "execution_count": 8,
      "outputs": []
    },
    {
      "cell_type": "code",
      "source": [
        "df.reset_index(drop=True)"
      ],
      "metadata": {
        "id": "bSMqeATC88sz"
      },
      "execution_count": null,
      "outputs": []
    },
    {
      "cell_type": "code",
      "source": [
        "df1 = pd.DataFrame({'x':[1,3,2], 'y':[2,4,1]})"
      ],
      "metadata": {
        "id": "_QASaBUl-VBp"
      },
      "execution_count": 11,
      "outputs": []
    },
    {
      "cell_type": "code",
      "source": [
        "df2 = pd.DataFrame({'x':[3,1,2], 'y':[0,2,2]})"
      ],
      "metadata": {
        "id": "UmzsDc6n-W7R"
      },
      "execution_count": 12,
      "outputs": []
    },
    {
      "cell_type": "code",
      "source": [
        "data = {'Имя':['Анна', 'Борис', None, 'Джон'], 'Возраст':[25, 30, 28, None]}\n",
        "df = pd.DataFrame(data)"
      ],
      "metadata": {
        "id": "shG69yWRELs6"
      },
      "execution_count": 27,
      "outputs": []
    },
    {
      "cell_type": "code",
      "source": [
        "df['Имя'].unique()"
      ],
      "metadata": {
        "colab": {
          "base_uri": "https://localhost:8080/"
        },
        "id": "bNXwu6AnWiVH",
        "outputId": "1ee4eae6-fe0d-4a6b-e5c5-0c664b5a1de8"
      },
      "execution_count": 38,
      "outputs": [
        {
          "output_type": "execute_result",
          "data": {
            "text/plain": [
              "array(['Анна', 'Борис', None, 'Джон'], dtype=object)"
            ]
          },
          "metadata": {},
          "execution_count": 38
        }
      ]
    }
  ]
}